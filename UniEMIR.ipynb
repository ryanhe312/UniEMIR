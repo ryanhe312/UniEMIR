{
  "cells": [
    {
      "cell_type": "markdown",
      "metadata": {
        "id": "hxuwBSFDhghn"
      },
      "source": [
        "# UniEMIR Colab Demo\n",
        "This demo allows you to run the models on your own images or the examples from the paper. Please refer to the paper for more details."
      ]
    },
    {
      "cell_type": "markdown",
      "metadata": {
        "id": "YeRahcBXhrgO"
      },
      "source": [
        "## 1. Clone the repository and prepare environment"
      ]
    },
    {
      "cell_type": "code",
      "execution_count": null,
      "metadata": {
        "colab": {
          "base_uri": "https://localhost:8080/"
        },
        "id": "z0nciz5yhOKl",
        "outputId": "5f5b96b8-144f-482d-b2ab-a2d9f991d858"
      },
      "outputs": [],
      "source": [
        "# Clone the repository\n",
        "!git clone https://github.com/ryanhe312/UniEMIR\n",
        "\n",
        "# Get into the directory\n",
        "%cd UniEMIR\n",
        "\n",
        "# Install packages\n",
        "!pip install -r requirements.txt"
      ]
    },
    {
      "cell_type": "markdown",
      "metadata": {
        "id": "WbgjwFjmkIoL"
      },
      "source": [
        "## 2. Run UniEMIR demo\n"
      ]
    },
    {
      "cell_type": "code",
      "execution_count": null,
      "metadata": {
        "colab": {
          "base_uri": "https://localhost:8080/",
          "height": 646
        },
        "id": "uGNwQ3V0kNV0",
        "outputId": "ba2353c8-0da4-4168-d1c8-ebf5d02721c8"
      },
      "outputs": [],
      "source": [
        "from app import *"
      ]
    }
  ],
  "metadata": {
    "accelerator": "GPU",
    "colab": {
      "gpuType": "T4",
      "provenance": []
    },
    "kernelspec": {
      "display_name": "Python 3",
      "name": "python3"
    },
    "language_info": {
      "name": "python"
    }
  },
  "nbformat": 4,
  "nbformat_minor": 0
}
